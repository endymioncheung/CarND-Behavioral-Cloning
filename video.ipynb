{
 "cells": [
  {
   "cell_type": "code",
   "execution_count": 1,
   "metadata": {},
   "outputs": [],
   "source": [
    "# video.py\n",
    "'''\n",
    "The \"video\" script takes the list of the generated images in sequence and creates a video\n",
    "'''\n",
    "\n",
    "# File system and command line options library\n",
    "import os\n",
    "import argparse\n",
    "\n",
    "# Video clip editor library\n",
    "from moviepy.editor import ImageSequenceClip\n",
    "\n",
    "# Supported image extensions\n",
    "IMAGE_EXT = ['jpeg', 'gif', 'png', 'jpg']"
   ]
  },
  {
   "cell_type": "code",
   "execution_count": null,
   "metadata": {},
   "outputs": [],
   "source": [
    "def main():\n",
    "    parser = argparse.ArgumentParser(description='Create driving video.')\n",
    "    \n",
    "    # Input argument for the folder containing source images\n",
    "    parser.add_argument(\n",
    "        'image_folder',\n",
    "        type=str,\n",
    "        default='',\n",
    "        help='Path to image folder. The video will be created from these images.'\n",
    "    )\n",
    "    \n",
    "    # Input argument for the frame rate (FPS) default to 60FPS if not specified\n",
    "    parser.add_argument(\n",
    "        '--fps',\n",
    "        type=int,\n",
    "        default=60,\n",
    "        help='FPS (Frames per second) setting for the video.')\n",
    "    args = parser.parse_args()\n",
    "\n",
    "    # Convert file folder into list filtered for image file types\n",
    "    image_list = sorted([os.path.join(args.image_folder, image_file)\n",
    "                        for image_file in os.listdir(args.image_folder)])\n",
    "    \n",
    "    image_list = [image_file for image_file in image_list if os.path.splitext(image_file)[1][1:].lower() in IMAGE_EXT]\n",
    "\n",
    "    # Two methods of naming output video to handle varying environemnts\n",
    "    video_file_1 = args.image_folder + '.mp4'\n",
    "    video_file_2 = args.image_folder + 'output_video.mp4'\n",
    "\n",
    "    # Create the video clip from the sequence of images\n",
    "    print(\"Creating video {} @FPS={} ...\".format(args.image_folder, args.fps))\n",
    "    clip = ImageSequenceClip(image_list, fps=args.fps)\n",
    "    \n",
    "    try:\n",
    "        clip.write_videofile(video_file_1)\n",
    "    except:\n",
    "        clip.write_videofile(video_file_2)\n",
    "\n",
    "\n",
    "if __name__ == '__main__':\n",
    "    main()"
   ]
  }
 ],
 "metadata": {
  "kernelspec": {
   "display_name": "Python [conda env:carnd-term1]",
   "language": "python",
   "name": "conda-env-carnd-term1-py"
  },
  "language_info": {
   "codemirror_mode": {
    "name": "ipython",
    "version": 3
   },
   "file_extension": ".py",
   "mimetype": "text/x-python",
   "name": "python",
   "nbconvert_exporter": "python",
   "pygments_lexer": "ipython3",
   "version": "3.5.2"
  },
  "widgets": {
   "state": {},
   "version": "1.1.2"
  }
 },
 "nbformat": 4,
 "nbformat_minor": 2
}
